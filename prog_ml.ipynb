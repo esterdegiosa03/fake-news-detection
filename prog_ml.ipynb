{
 "cells": [
  {
   "cell_type": "code",
   "execution_count": 46,
   "id": "4648dfc5",
   "metadata": {},
   "outputs": [],
   "source": [
    "# 1. Import delle librerie\n",
    "import pandas as pd\n",
    "import os\n",
    "import numpy as np\n",
    "import matplotlib.pyplot as plt\n",
    "import seaborn as sns\n",
    "import re\n",
    "\n",
    "from sklearn.model_selection import train_test_split\n",
    "from sklearn.feature_extraction.text import TfidfVectorizer\n",
    "from sklearn.linear_model import LogisticRegression\n",
    "from sklearn.metrics import accuracy_score, classification_report, confusion_matrix\n",
    "from sklearn.svm import SVC, LinearSVC"
   ]
  },
  {
   "cell_type": "code",
   "execution_count": 47,
   "id": "734ff658",
   "metadata": {},
   "outputs": [
    {
     "name": "stdout",
     "output_type": "stream",
     "text": [
      "File already exists\n",
      "File is readable\n"
     ]
    }
   ],
   "source": [
    "# 2. Caricamento del dataset\n",
    "FFILE = \"data/WELFake_Dataset.csv\"\n",
    "\n",
    "if os.path.isfile(FFILE):\n",
    "    print(\"File already exists\")\n",
    "    if os.access(FFILE, os.R_OK):\n",
    "        print (\"File is readable\")\n",
    "    else:\n",
    "        print (\"File is not readable\")\n",
    "else:\n",
    "    print(\"Either the file is missing or not readable, download it\")"
   ]
  },
  {
   "cell_type": "code",
   "execution_count": 48,
   "id": "ce66bdc6",
   "metadata": {},
   "outputs": [
    {
     "name": "stdout",
     "output_type": "stream",
     "text": [
      "Prime righe del dataset:\n",
      "    Unnamed: 0                                              title  \\\n",
      "0           0  LAW ENFORCEMENT ON HIGH ALERT Following Threat...   \n",
      "1           1                                                NaN   \n",
      "2           2  UNBELIEVABLE! OBAMA’S ATTORNEY GENERAL SAYS MO...   \n",
      "3           3  Bobby Jindal, raised Hindu, uses story of Chri...   \n",
      "4           4  SATAN 2: Russia unvelis an image of its terrif...   \n",
      "\n",
      "                                                text  label  \n",
      "0  No comment is expected from Barack Obama Membe...      1  \n",
      "1     Did they post their votes for Hillary already?      1  \n",
      "2   Now, most of the demonstrators gathered last ...      1  \n",
      "3  A dozen politically active pastors came here f...      0  \n",
      "4  The RS-28 Sarmat missile, dubbed Satan 2, will...      1  \n",
      "\n",
      "Colonne disponibili: ['Unnamed: 0', 'title', 'text', 'label']\n",
      "\n",
      "Info sul dataset:\n",
      "\n",
      "<class 'pandas.core.frame.DataFrame'>\n",
      "RangeIndex: 72134 entries, 0 to 72133\n",
      "Data columns (total 4 columns):\n",
      " #   Column      Non-Null Count  Dtype \n",
      "---  ------      --------------  ----- \n",
      " 0   Unnamed: 0  72134 non-null  int64 \n",
      " 1   title       71576 non-null  object\n",
      " 2   text        72095 non-null  object\n",
      " 3   label       72134 non-null  int64 \n",
      "dtypes: int64(2), object(2)\n",
      "memory usage: 2.2+ MB\n"
     ]
    }
   ],
   "source": [
    "# 3. Lettura e analisi preliminare\n",
    "df = pd.read_csv(FFILE)\n",
    "print(\"Prime righe del dataset:\\n\", df.head())\n",
    "print(\"\\nColonne disponibili:\", df.columns.tolist())\n",
    "print(\"\\nInfo sul dataset:\\n\")\n",
    "df.info()\n"
   ]
  },
  {
   "cell_type": "code",
   "execution_count": 49,
   "id": "529fe26f",
   "metadata": {},
   "outputs": [
    {
     "name": "stdout",
     "output_type": "stream",
     "text": [
      "\n",
      "Distribuzione classi:\n",
      " label\n",
      "0    34790\n",
      "1    28329\n",
      "Name: count, dtype: int64\n"
     ]
    },
    {
     "data": {
      "image/png": "[encoded data removed]",
      "text/plain": [
       "<Figure size 640x480 with 1 Axes>"
      ]
     },
     "metadata": {},
     "output_type": "display_data"
    }
   ],
   "source": [
    "# 4. Pulizia iniziale dati\n",
    "\n",
    "# Teniamo solo le colonne rilevanti\n",
    "df = df[['title', 'text', 'label']]\n",
    "\n",
    "# Rimuove righe con valori mancanti\n",
    "df = df.dropna()\n",
    "\n",
    "# Unisce il titolo con il testo per formare una rappresentazione più ricca\n",
    "df['full_text'] = df['title'].str.strip() + \". \" + df['text'].str.strip()\n",
    "\n",
    "# Converte le etichette (se non sono già int)\n",
    "df['label'] = df['label'].astype(int)\n",
    "\n",
    "# Elimina eventuali duplicati\n",
    "df = df.drop_duplicates(subset='full_text')\n",
    "\n",
    "# Distribuzione delle classi (Fake = 0, Real = 1)\n",
    "print(\"\\nDistribuzione classi:\\n\", df['label'].value_counts())\n",
    "\n",
    "# Visualizzazione distribuzione classi\n",
    "sns.countplot(x='label', data=df)\n",
    "plt.title(\"Distribuzione delle classi\")\n",
    "plt.xticks([0, 1], ['Fake', 'Real'])\n",
    "plt.show()\n"
   ]
  },
  {
   "cell_type": "code",
   "execution_count": 50,
   "id": "49bc2642",
   "metadata": {},
   "outputs": [],
   "source": [
    "# 5. Funzione di pulizia del testo\n",
    "def clean_text(text):\n",
    "    # Trasforma tutto in minuscolo\n",
    "    text = text.lower()\n",
    "\n",
    "    # Rimuove spazi multipli, tabulazioni e ritorni a capo\n",
    "    text = re.sub(r'\\s+', ' ', text).strip()\n",
    "\n",
    "    return text\n",
    "\n",
    "# Applichiamo la pulizia al testo combinato\n",
    "df['clean_text'] = df['full_text'].apply(clean_text)\n"
   ]
  },
  {
   "cell_type": "code",
   "execution_count": 51,
   "id": "69c4dfb9",
   "metadata": {},
   "outputs": [],
   "source": [
    "# 7. Trasformazione testo → numeri (TF-IDF)\n",
    "\n",
    "# TF-IDF: Term Frequency - Inverse Document Frequency\n",
    "# Serve per rappresentare il testo in forma numerica, pesando le parole in base a quanto sono \"informative\"\n",
    "# (cioè comuni nel documento ma non troppo comuni ovunque)\n",
    "\n",
    "vectorizer = TfidfVectorizer(stop_words='english', max_features=5000)\n",
    "\n",
    "# Applichiamo la trasformazione al testo pulito\n",
    "X = vectorizer.fit_transform(df['clean_text'])\n",
    "\n",
    "# Target (0 = fake, 1 = real)\n",
    "y = df['label'].values\n"
   ]
  },
  {
   "cell_type": "code",
   "execution_count": 52,
   "id": "b1fde8f2",
   "metadata": {},
   "outputs": [
    {
     "name": "stdout",
     "output_type": "stream",
     "text": [
      "Train size: 50495 - Test size: 12624\n"
     ]
    }
   ],
   "source": [
    "# 8. Split Train/Test\n",
    "\n",
    "# Suddividiamo in training e test set (80% / 20%)\n",
    "# stratify=y serve per mantenere la stessa proporzione di etichette (fake/real) nei due insiemi\n",
    "X_train, X_test, y_train, y_test = train_test_split(\n",
    "    X, y, test_size=0.2, stratify=y, random_state=42\n",
    ")\n",
    "\n",
    "print(f\"Train size: {X_train.shape[0]} - Test size: {X_test.shape[0]}\")\n"
   ]
  },
  {
   "cell_type": "code",
   "execution_count": 53,
   "id": "dc62e49d",
   "metadata": {},
   "outputs": [
    {
     "name": "stdout",
     "output_type": "stream",
     "text": [
      "Accuracy: 0.9419\n",
      "\n",
      "Classification Report:\n",
      "               precision    recall  f1-score   support\n",
      "\n",
      "           0       0.95      0.95      0.95      6958\n",
      "           1       0.94      0.93      0.94      5666\n",
      "\n",
      "    accuracy                           0.94     12624\n",
      "   macro avg       0.94      0.94      0.94     12624\n",
      "weighted avg       0.94      0.94      0.94     12624\n",
      "\n",
      "\n",
      "Confusion Matrix:\n",
      " [[6598  360]\n",
      " [ 373 5293]]\n"
     ]
    }
   ],
   "source": [
    "# 1. Creo il modello di regressione logistica\n",
    "#   - solver='liblinear' funziona bene su piccoli dataset di testo\n",
    "#   - max_iter=100 per avere abbastanza iterazioni per convergere\n",
    "model = LogisticRegression(solver='liblinear', max_iter=100)\n",
    "\n",
    "# 2. Alleno il modello sui dati di training\n",
    "model.fit(X_train, y_train)\n",
    "\n",
    "# 3. Faccio la previsione sul test set\n",
    "y_pred = model.predict(X_test)\n",
    "\n",
    "# 4. Valuto le prestazioni del modello\n",
    "\n",
    "# Accuracy = percentuale di predizioni corrette\n",
    "accuracy = accuracy_score(y_test, y_pred)\n",
    "print(f\"Accuracy: {accuracy:.4f}\")\n",
    "\n",
    "# Report completo con precision, recall, f1-score per ogni classe\n",
    "print(\"\\nClassification Report:\\n\", classification_report(y_test, y_pred))\n",
    "\n",
    "# Matrice di confusione per vedere i falsi positivi e negativi\n",
    "conf_matrix = confusion_matrix(y_test, y_pred)\n",
    "print(\"\\nConfusion Matrix:\\n\", conf_matrix)\n"
   ]
  },
  {
   "cell_type": "code",
   "execution_count": null,
   "id": "c39a0c79",
   "metadata": {},
   "outputs": [
    {
     "name": "stdout",
     "output_type": "stream",
     "text": [
      "SVM Lineare - Accuracy: 0.9437579214195184\n",
      "              precision    recall  f1-score   support\n",
      "\n",
      "           0       0.95      0.95      0.95      6958\n",
      "           1       0.94      0.94      0.94      5666\n",
      "\n",
      "    accuracy                           0.94     12624\n",
      "   macro avg       0.94      0.94      0.94     12624\n",
      "weighted avg       0.94      0.94      0.94     12624\n",
      "\n"
     ]
    }
   ],
   "source": [
    "# Modello SVM lineare\n",
    "svm_linear = LinearSVC(random_state=0, max_iter=5000)\n",
    "svm_linear.fit(X_train, y_train)\n",
    "\n",
    "# Predizione\n",
    "y_pred_linear = svm_linear.predict(X_test)\n",
    "\n",
    "# Valutazione\n",
    "print(\"SVM Lineare - Accuracy:\", accuracy_score(y_test, y_pred_linear))\n",
    "print(\"Classification Report SVM Lineare:\\n\", classification_report(y_test, y_pred_linear))\n"
   ]
  },
  {
   "cell_type": "code",
   "execution_count": null,
   "id": "f3ed4016",
   "metadata": {},
   "outputs": [],
   "source": [
    "# Modello SVM con kernel RBF (non lineare)\n",
    "svm_rbf = SVC(kernel='rbf', random_state=0)\n",
    "svm_rbf.fit(X_train, y_train)\n",
    "\n",
    "# Predizione\n",
    "y_pred_rbf = svm_rbf.predict(X_test)\n",
    "\n",
    "# Valutazione\n",
    "print(\"SVM con Kernel RBF - Accuracy:\", accuracy_score(y_test, y_pred_rbf))\n",
    "print(classification_report(y_test, y_pred_rbf))\n"
   ]
  }
 ],
 "metadata": {
  "kernelspec": {
   "display_name": "Python 3",
   "language": "python",
   "name": "python3"
  },
  "language_info": {
   "codemirror_mode": {
    "name": "ipython",
    "version": 3
   },
   "file_extension": ".py",
   "mimetype": "text/x-python",
   "name": "python",
   "nbconvert_exporter": "python",
   "pygments_lexer": "ipython3",
   "version": "3.12.0"
  }
 },
 "nbformat": 4,
 "nbformat_minor": 5
}
